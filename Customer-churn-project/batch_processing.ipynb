{
 "cells": [
  {
   "cell_type": "code",
   "execution_count": 1,
   "metadata": {},
   "outputs": [],
   "source": [
    "from pyspark.sql import SparkSession\n",
    "from pyspark.sql.functions import col, when\n",
    "from pyspark.sql.types import DoubleType\n",
    "from pyspark.ml.feature import StringIndexer, OneHotEncoder, VectorAssembler, MinMaxScaler\n",
    "from pyspark.ml import Pipeline"
   ]
  },
  {
   "cell_type": "code",
   "execution_count": 2,
   "metadata": {},
   "outputs": [
    {
     "name": "stderr",
     "output_type": "stream",
     "text": [
      "25/03/10 20:47:58 WARN Utils: Your hostname, 536a82ee9c48c407 resolves to a loopback address: 127.0.0.1; using 10.62.18.194 instead (on interface eth0)\n",
      "25/03/10 20:47:58 WARN Utils: Set SPARK_LOCAL_IP if you need to bind to another address\n",
      "Setting default log level to \"WARN\".\n",
      "To adjust logging level use sc.setLogLevel(newLevel). For SparkR, use setLogLevel(newLevel).\n",
      "25/03/10 20:47:58 WARN NativeCodeLoader: Unable to load native-hadoop library for your platform... using builtin-java classes where applicable\n"
     ]
    }
   ],
   "source": [
    "# Initialize Spark Session\n",
    "spark = SparkSession.builder \\\n",
    "    .appName(\"ChurnPreprocessing\") \\\n",
    "    .config(\"spark.ui.port\", \"4040\") \\\n",
    "    .getOrCreate()"
   ]
  },
  {
   "cell_type": "code",
   "execution_count": 3,
   "metadata": {},
   "outputs": [
    {
     "name": "stderr",
     "output_type": "stream",
     "text": [
      "                                                                                \r"
     ]
    }
   ],
   "source": [
    "# Load dataset\n",
    "df = spark.read.csv(\"/root/code/Customer-churn-project/Data/WA_Fn-UseC_-Telco-Customer-Churn.csv\", header=True, inferSchema=True)\n",
    "\n",
    "# Drop Unnecessary Column\n",
    "df = df.drop(\"customerID\")\n",
    "\n",
    "# Convert TotalCharges to Numeric & Handle Missing Values\n",
    "df = df.withColumn(\"TotalCharges\", col(\"TotalCharges\").cast(DoubleType()))\n",
    "median_value = df.approxQuantile(\"TotalCharges\", [0.5], 0.01)[0]\n",
    "df = df.fillna({\"TotalCharges\": median_value})"
   ]
  },
  {
   "cell_type": "code",
   "execution_count": 4,
   "metadata": {},
   "outputs": [],
   "source": [
    "# Replace \"No internet service\" & \"No phone service\" with \"No\"\n",
    "replace_cols = [\"MultipleLines\", \"OnlineSecurity\", \"OnlineBackup\", \"DeviceProtection\", \"TechSupport\", \"StreamingTV\", \"StreamingMovies\"]\n",
    "for col_name in replace_cols:\n",
    "    df = df.withColumn(col_name, when(col(col_name) == \"No internet service\", \"No\").otherwise(col(col_name)))\n",
    "\n",
    "df = df.withColumn(\"PhoneService\", when(col(\"PhoneService\") == \"No phone service\", \"No\").otherwise(col(\"PhoneService\")))\n",
    "\n",
    "# Convert gender to Numeric\n",
    "df = df.withColumn(\"gender\", when(col(\"gender\") == \"Female\", 1).otherwise(0))"
   ]
  },
  {
   "cell_type": "code",
   "execution_count": 5,
   "metadata": {},
   "outputs": [
    {
     "name": "stderr",
     "output_type": "stream",
     "text": [
      "                                                                                \r"
     ]
    }
   ],
   "source": [
    "# One-Hot Encoding for Multi-Class Categorical Features\n",
    "categorical_cols = ['InternetService', 'Contract', 'PaymentMethod']\n",
    "indexers = [StringIndexer(inputCol=col, outputCol=col+\"_index\") for col in categorical_cols]\n",
    "encoders = [OneHotEncoder(inputCol=col+\"_index\", outputCol=col+\"_encoded\") for col in categorical_cols]\n",
    "\n",
    "pipeline = Pipeline(stages=indexers + encoders)\n",
    "df = pipeline.fit(df).transform(df)\n",
    "df = df.drop(*categorical_cols)  # Drop original categorical columns\n",
    "\n",
    "# Convert Binary Columns to Numeric\n",
    "binary_cols = ['Partner', 'Dependents', 'PhoneService', 'MultipleLines', \n",
    "               'OnlineSecurity', 'OnlineBackup', 'DeviceProtection', \n",
    "               'TechSupport', 'StreamingTV', 'StreamingMovies', \n",
    "               'PaperlessBilling', 'Churn']\n",
    "\n",
    "for col_name in binary_cols:\n",
    "    df = df.withColumn(col_name, when(col(col_name) == \"Yes\", 1).otherwise(0))"
   ]
  },
  {
   "cell_type": "code",
   "execution_count": 6,
   "metadata": {},
   "outputs": [],
   "source": [
    "# Feature Scaling for Numerical Features\n",
    "num_cols = [\"tenure\", \"MonthlyCharges\", \"TotalCharges\"]\n",
    "assembler = VectorAssembler(inputCols=num_cols, outputCol=\"features_unscaled\")\n",
    "scaler = MinMaxScaler(inputCol=\"features_unscaled\", outputCol=\"features\")\n",
    "\n",
    "pipeline = Pipeline(stages=[assembler, scaler])\n",
    "df = pipeline.fit(df).transform(df)\n",
    "\n",
    "df = df.drop(*num_cols)  # Drop original numerical columns\n",
    "\n",
    "# Split Data into Train & Test\n",
    "train_df, test_df = df.randomSplit([0.67, 0.33], seed=42)"
   ]
  },
  {
   "cell_type": "code",
   "execution_count": 7,
   "metadata": {},
   "outputs": [
    {
     "name": "stdout",
     "output_type": "stream",
     "text": [
      "root\n",
      " |-- gender: integer (nullable = false)\n",
      " |-- SeniorCitizen: integer (nullable = true)\n",
      " |-- Partner: integer (nullable = false)\n",
      " |-- Dependents: integer (nullable = false)\n",
      " |-- PhoneService: integer (nullable = false)\n",
      " |-- MultipleLines: integer (nullable = false)\n",
      " |-- OnlineSecurity: integer (nullable = false)\n",
      " |-- OnlineBackup: integer (nullable = false)\n",
      " |-- DeviceProtection: integer (nullable = false)\n",
      " |-- TechSupport: integer (nullable = false)\n",
      " |-- StreamingTV: integer (nullable = false)\n",
      " |-- StreamingMovies: integer (nullable = false)\n",
      " |-- PaperlessBilling: integer (nullable = false)\n",
      " |-- Churn: integer (nullable = false)\n",
      " |-- InternetService_index: double (nullable = false)\n",
      " |-- Contract_index: double (nullable = false)\n",
      " |-- PaymentMethod_index: double (nullable = false)\n",
      " |-- InternetService_encoded: vector (nullable = true)\n",
      " |-- Contract_encoded: vector (nullable = true)\n",
      " |-- PaymentMethod_encoded: vector (nullable = true)\n",
      " |-- features_unscaled: vector (nullable = true)\n",
      " |-- features: vector (nullable = true)\n",
      "\n"
     ]
    }
   ],
   "source": [
    "train_df.printSchema()"
   ]
  },
  {
   "cell_type": "code",
   "execution_count": 9,
   "metadata": {},
   "outputs": [
    {
     "name": "stdout",
     "output_type": "stream",
     "text": [
      "✅ Preprocessing complete! Data saved successfully.\n"
     ]
    }
   ],
   "source": [
    "# Convert to Pandas DataFrames\n",
    "train_pandas = train_df.toPandas()\n",
    "test_pandas = test_df.toPandas()\n",
    "\n",
    "# Save to CSV\n",
    "train_pandas.to_csv(\"/root/code/Customer-churn-project/Data/train_data1.csv\", index=False)\n",
    "test_pandas.to_csv(\"/root/code/Customer-churn-project/Data/test_data1.csv\", index=False)\n",
    "\n",
    "print(\"✅ Preprocessing complete! Data saved successfully.\")"
   ]
  },
  {
   "cell_type": "code",
   "execution_count": 26,
   "metadata": {},
   "outputs": [
    {
     "name": "stderr",
     "output_type": "stream",
     "text": [
      "                                                                                \r"
     ]
    },
    {
     "name": "stdout",
     "output_type": "stream",
     "text": [
      "✅ Preprocessing complete! Data saved successfully.\n"
     ]
    }
   ],
   "source": [
    "train_df_csv= train_df.drop(\"InternetService_encoded\", \"Contract_encoded\", \n",
    "                            \"PaymentMethod_encoded\", \"features_unscaled\", \"features\")\n",
    "\n",
    "test_df_csv= test_df.drop(\"InternetService_encoded\", \"Contract_encoded\", \n",
    "                           \"PaymentMethod_encoded\", \"features_unscaled\", \"features\")\n",
    "\n",
    "\n",
    "# Save to CSV\n",
    "train_df_csv.write.csv(\"/root/code/Customer-churn-project/Data/train_data.csv\", header=True, mode=\"overwrite\")\n",
    "test_df_csv.write.csv(\"/root/code/Customer-churn-project/Data/test_data.csv\", header=True, mode=\"overwrite\")\n",
    "\n",
    "print(\"✅ Preprocessing complete! Data saved successfully.\")\n"
   ]
  },
  {
   "cell_type": "code",
   "execution_count": 10,
   "metadata": {},
   "outputs": [],
   "source": [
    "spark.stop()"
   ]
  },
  {
   "cell_type": "code",
   "execution_count": null,
   "metadata": {},
   "outputs": [],
   "source": []
  }
 ],
 "metadata": {
  "kernelspec": {
   "display_name": "Python 3",
   "language": "python",
   "name": "python3"
  },
  "language_info": {
   "codemirror_mode": {
    "name": "ipython",
    "version": 3
   },
   "file_extension": ".py",
   "mimetype": "text/x-python",
   "name": "python",
   "nbconvert_exporter": "python",
   "pygments_lexer": "ipython3",
   "version": "3.8.10"
  }
 },
 "nbformat": 4,
 "nbformat_minor": 2
}
